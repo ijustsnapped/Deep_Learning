{
  "cells": [
    {
      "cell_type": "code",
      "execution_count": null,
      "id": "2bf6752f",
      "metadata": {
        "colab": {
          "base_uri": "https://localhost:8080/"
        },
        "id": "2bf6752f",
        "outputId": "2aaf00d7-1c0a-4d0d-f322-de33d87f4c7e"
      },
      "outputs": [
        {
          "output_type": "stream",
          "name": "stdout",
          "text": [
            "Hello people\n"
          ]
        }
      ],
      "source": [
        "print(\"Hello people\")"
      ]
    },
    {
      "cell_type": "code",
      "source": [
        "#teste oi oi"
      ],
      "metadata": {
        "id": "A6m-z7tK1F8C"
      },
      "id": "A6m-z7tK1F8C",
      "execution_count": null,
      "outputs": []
    }
  ],
  "metadata": {
    "language_info": {
      "name": "python"
    },
    "colab": {
      "provenance": []
    },
    "kernelspec": {
      "name": "python3",
      "display_name": "Python 3"
    }
  },
  "nbformat": 4,
  "nbformat_minor": 5
}